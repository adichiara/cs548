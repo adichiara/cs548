{
  "nbformat": 4,
  "nbformat_minor": 0,
  "metadata": {
    "colab": {
      "name": "cs548 p2.ipynb",
      "version": "0.3.2",
      "provenance": [],
      "collapsed_sections": [],
      "include_colab_link": true
    },
    "kernelspec": {
      "name": "python3",
      "display_name": "Python 3"
    },
    "accelerator": "GPU"
  },
  "cells": [
    {
      "cell_type": "markdown",
      "metadata": {
        "id": "view-in-github",
        "colab_type": "text"
      },
      "source": [
        "<a href=\"https://colab.research.google.com/github/adichiara/cs548/blob/master/cs548_p2.ipynb\" target=\"_parent\"><img src=\"https://colab.research.google.com/assets/colab-badge.svg\" alt=\"Open In Colab\"/></a>"
      ]
    },
    {
      "cell_type": "code",
      "metadata": {
        "id": "nAkP1-EduPTX",
        "colab_type": "code",
        "colab": {}
      },
      "source": [
        "import pandas as pd\n",
        "import numpy as np\n",
        "import scipy as stats\n",
        "import scipy.stats as norm\n",
        "from statistics import mean\n",
        "\n",
        "import matplotlib.pyplot as plt\n",
        "import seaborn as sns\n",
        "from pandas.plotting import scatter_matrix\n",
        "\n",
        "from sklearn.preprocessing import MinMaxScaler\n",
        "from sklearn.decomposition import PCA\n",
        "from sklearn.model_selection import train_test_split \n",
        "from sklearn.model_selection import KFold\n",
        "from sklearn.model_selection import cross_val_score\n",
        "from sklearn.model_selection import cross_val_predict\n",
        "from sklearn.tree import DecisionTreeClassifier \n",
        "from sklearn.tree.export import export_text\n",
        "from sklearn import metrics\n"
      ],
      "execution_count": 0,
      "outputs": []
    },
    {
      "cell_type": "markdown",
      "metadata": {
        "id": "UtoiIYxCU_Xr",
        "colab_type": "text"
      },
      "source": [
        "#Data Preprocessing"
      ]
    },
    {
      "cell_type": "code",
      "metadata": {
        "id": "Ff34cG6KuTnp",
        "colab_type": "code",
        "colab": {}
      },
      "source": [
        "# import dataset\n",
        "df = pd.read_csv('https://archive.ics.uci.edu/ml/machine-learning-databases/heart-disease/processed.cleveland.data', sep=\",\", header=None) "
      ],
      "execution_count": 0,
      "outputs": []
    },
    {
      "cell_type": "code",
      "metadata": {
        "id": "biuTAmg8uV1G",
        "colab_type": "code",
        "colab": {}
      },
      "source": [
        "# set column headers\n",
        "column_names = [\"age\", \"sex\", \"cp\", \"trestbps\", \"chol\", \n",
        "              \"fbs\", \"restecg\", \"thalach\", \"exang\", \n",
        "              \"oldpeak\", \"slope\", \"ca\", \"thal\", \"num\"]\n",
        "df.columns = column_names\n"
      ],
      "execution_count": 0,
      "outputs": []
    },
    {
      "cell_type": "code",
      "metadata": {
        "id": "1azn3EZcJlUO",
        "colab_type": "code",
        "colab": {}
      },
      "source": [
        "# convert \"?\" values to NaN\n",
        "df = df.replace(\"?\", np.nan)\n",
        "\n",
        "# convert numeric string values to float\n",
        "df.thal = pd.to_numeric(df.thal, errors='coerce')\n",
        "df.ca = pd.to_numeric(df.ca, errors='coerce')\n",
        "\n",
        "# recode target variable - multiple true values to single true value\n",
        "df.num.replace(to_replace=[1,2,3,4], value=1, inplace=True)\n"
      ],
      "execution_count": 0,
      "outputs": []
    },
    {
      "cell_type": "code",
      "metadata": {
        "id": "SkovoLUhXMRr",
        "colab_type": "code",
        "outputId": "8546f27d-8fd9-476d-cd9f-8f61b92a30e3",
        "colab": {
          "base_uri": "https://localhost:8080/",
          "height": 272
        }
      },
      "source": [
        "pd.isna(df).sum()\n",
        "  "
      ],
      "execution_count": 5,
      "outputs": [
        {
          "output_type": "execute_result",
          "data": {
            "text/plain": [
              "age         0\n",
              "sex         0\n",
              "cp          0\n",
              "trestbps    0\n",
              "chol        0\n",
              "fbs         0\n",
              "restecg     0\n",
              "thalach     0\n",
              "exang       0\n",
              "oldpeak     0\n",
              "slope       0\n",
              "ca          4\n",
              "thal        2\n",
              "num         0\n",
              "dtype: int64"
            ]
          },
          "metadata": {
            "tags": []
          },
          "execution_count": 5
        }
      ]
    },
    {
      "cell_type": "code",
      "metadata": {
        "id": "NFGtqYwqR6vP",
        "colab_type": "code",
        "colab": {}
      },
      "source": [
        "#drop all observations rows with NaN data\n",
        "df = df.dropna()\n",
        "#re-index the dataframe so that there are no missing row index numbers.  \n",
        "df = df.reset_index(drop=True)"
      ],
      "execution_count": 0,
      "outputs": []
    },
    {
      "cell_type": "code",
      "metadata": {
        "id": "G1kI6CKruXoe",
        "colab_type": "code",
        "colab": {}
      },
      "source": [
        "# recode categorical variables with actual attribute descriptors\n",
        "\n",
        "df_names = df.copy()\n",
        "\n",
        "sex_dict = {1:\"male\",0:\"female\"}\n",
        "cp_dict = {1:\"typical angina\",2:\"atypical angina\",3:\"non-anginal pain\",4:\"asymptomatic\"}\n",
        "fbs_dict = {1:\"true\",0:\"false\"}\n",
        "restecg_dict = {0:\"normal\",1:\"ST-T wave abnormality\",2:\"left ventricular hypertrophy\"}\n",
        "exang_dict = {1:\"yes\",0:\"no\"}\n",
        "slope_dict = {1:\"upsloping\",2:\"flat\",3:\"downsloping\"}\n",
        "ca_dict = {0:\"0 vessels\",1:\"1 vessels\",2:\"2 vessels\",3:\"3 vessels\"}\n",
        "thal_dict = {3:\"normal\",6:\"fixed defect\",7:\"reversable defect\"}\n",
        "num_dict = {0:\"<50% diameter narrowing\",1:\">50% diameter narrowing\"}\n",
        "\n",
        "df_names.sex.replace(to_replace=sex_dict, inplace=True)\n",
        "df_names.cp.replace(to_replace=cp_dict, inplace=True) \n",
        "df_names.fbs.replace(to_replace=fbs_dict, inplace=True) \n",
        "df_names.restecg.replace(to_replace=restecg_dict, inplace=True) \n",
        "df_names.exang.replace(to_replace=exang_dict, inplace=True) \n",
        "df_names.slope.replace(to_replace=slope_dict, inplace=True) \n",
        "df_names.ca.replace(to_replace=ca_dict, inplace=True) \n",
        "df_names.thal.replace(to_replace=thal_dict, inplace=True) \n",
        "df_names.num.replace(to_replace=num_dict, inplace=True) \n"
      ],
      "execution_count": 0,
      "outputs": []
    },
    {
      "cell_type": "markdown",
      "metadata": {
        "id": "l_p7JJMMYqTV",
        "colab_type": "text"
      },
      "source": [
        "# Dataset Exploration"
      ]
    },
    {
      "cell_type": "code",
      "metadata": {
        "id": "17GiiUAZpXPv",
        "colab_type": "code",
        "colab": {}
      },
      "source": [
        "vars_discrete = df_names.select_dtypes(include=['object']).columns\n",
        "\n",
        "vars_continuous = [\"age\",\"trestbps\",\"chol\",\"thalach\",\"oldpeak\"]\n"
      ],
      "execution_count": 0,
      "outputs": []
    },
    {
      "cell_type": "code",
      "metadata": {
        "id": "uUD-03bLY6xO",
        "colab_type": "code",
        "colab": {}
      },
      "source": [
        "df.shape"
      ],
      "execution_count": 0,
      "outputs": []
    },
    {
      "cell_type": "code",
      "metadata": {
        "id": "8hca7NP5Y_tM",
        "colab_type": "code",
        "colab": {}
      },
      "source": [
        "df.describe()"
      ],
      "execution_count": 0,
      "outputs": []
    },
    {
      "cell_type": "code",
      "metadata": {
        "id": "nsy4UtjOZclF",
        "colab_type": "code",
        "colab": {}
      },
      "source": [
        "# plot value frequencies for discrete variables\n",
        "\n",
        "plt.rcParams['figure.figsize'] = [4,2]\n",
        "\n",
        "\n",
        "for i, col in enumerate(vars_discrete):\n",
        "  plt.figure(i) \n",
        "  ax = sns.countplot(y=col, data=df_names)\n"
      ],
      "execution_count": 0,
      "outputs": []
    },
    {
      "cell_type": "code",
      "metadata": {
        "id": "JkDQ0rVNh6yx",
        "colab_type": "code",
        "colab": {}
      },
      "source": [
        "n=len(vars_discrete)\n",
        "\n",
        "fig,ax = plt.subplots(n,1, figsize=(5,n*2), sharex=False)\n",
        "for i in range(n):\n",
        "    plt.sca(ax[i])\n",
        "    col = vars_discrete[i]\n",
        "    sns.countplot(y=df_names[col].values, hue=df_names.num)\n",
        "    plt.xlabel(\"\")\n",
        "    plt.title(col)\n",
        "    plt.subplots_adjust(top=1.5)\n",
        "    plt.legend(bbox_to_anchor=(1.05, 1), loc=2, borderaxespad=0.0)\n",
        " "
      ],
      "execution_count": 0,
      "outputs": []
    },
    {
      "cell_type": "code",
      "metadata": {
        "id": "N4Hb7pfNVP01",
        "colab_type": "code",
        "colab": {}
      },
      "source": [
        "\n",
        "sns.pairplot(df_names, vars=vars_continuous, hue=\"num\", height=1.5, plot_kws={\"s\":25, \"alpha\":.3} )\n",
        "\n"
      ],
      "execution_count": 0,
      "outputs": []
    },
    {
      "cell_type": "code",
      "metadata": {
        "id": "2ZLAQqA_jagt",
        "colab_type": "code",
        "colab": {}
      },
      "source": [
        "df[vars_discrete].corr()\n"
      ],
      "execution_count": 0,
      "outputs": []
    },
    {
      "cell_type": "code",
      "metadata": {
        "id": "YnENSZ-sMbN3",
        "colab_type": "code",
        "colab": {}
      },
      "source": [
        "plt.rcParams['figure.figsize'] = [10, 5]\n",
        "\n",
        "df_true=df.loc[df.num==1,:]\n",
        "df_false=df.loc[df.num==0,:]\n",
        "\n",
        "# correlation heatmap\n",
        "sns.heatmap(df_true[vars_discrete].corr(), \n",
        "            vmin=-1, vmax=1, center=0, \n",
        "            annot=True, fmt=\".2f\", linewidth=0.5,\n",
        "            cmap=\"coolwarm_r\")\n",
        "\n"
      ],
      "execution_count": 0,
      "outputs": []
    },
    {
      "cell_type": "code",
      "metadata": {
        "id": "KM-JV9BkNGXn",
        "colab_type": "code",
        "colab": {}
      },
      "source": [
        "# correlation heatmap\n",
        "sns.heatmap(df_false[vars_discrete].corr(), \n",
        "            vmin=-1, vmax=1, center=0, \n",
        "            annot=True, fmt=\".2f\", linewidth=0.5,\n",
        "            cmap=\"coolwarm_r\")"
      ],
      "execution_count": 0,
      "outputs": []
    },
    {
      "cell_type": "markdown",
      "metadata": {
        "id": "nQabWD47VQnS",
        "colab_type": "text"
      },
      "source": [
        "# Classification Experiments"
      ]
    },
    {
      "cell_type": "code",
      "metadata": {
        "id": "a-lQyq45y0w7",
        "colab_type": "code",
        "colab": {}
      },
      "source": [
        "df_data = df.iloc[:,0:13]\n",
        "target = df[\"num\"]\n"
      ],
      "execution_count": 0,
      "outputs": []
    },
    {
      "cell_type": "code",
      "metadata": {
        "id": "F8eI0pFRU58c",
        "colab_type": "code",
        "colab": {}
      },
      "source": [
        "\n",
        "def get_gini(x, a, target):\n",
        "  partitions = x[a].unique()\n",
        "  target_classes = x[target].unique()\n",
        "  n = x.loc[:,target].count()\n",
        "  \n",
        "  gini={}\n",
        "  gini_node={}\n",
        "\n",
        "  for i,b in enumerate(partitions):\n",
        "    print(\"i \",i)\n",
        "    print(\"b \",b)\n",
        "    for j,c in enumerate(target_classes):\n",
        "      print(\"j \",j)\n",
        "      print(\"c \",c)\n",
        "\n",
        "      gini_node[i,0]= (len(x[(x[a]==i) & (x[target]==c)])/n)**2\n",
        "  \n",
        "  #gini[a] = (1-gini_node[partitions[0],0]-gini_node[partitions[0],1])\n",
        "  gini = (1-gini_node[partitions[0],0]-gini_node[partitions[0],1])\n",
        "\n",
        "  print(gini)\n",
        "  return(gini)\n",
        "\n",
        "get_gini(df_names, \"sex\", \"num\")\n"
      ],
      "execution_count": 0,
      "outputs": []
    },
    {
      "cell_type": "code",
      "metadata": {
        "id": "FT0ajSSMMp_1",
        "colab_type": "code",
        "colab": {}
      },
      "source": [
        "class_functions={\"zeroR\":\"zeroR\"}"
      ],
      "execution_count": 0,
      "outputs": []
    },
    {
      "cell_type": "code",
      "metadata": {
        "id": "89Fh7d7OMahW",
        "colab_type": "code",
        "colab": {}
      },
      "source": [
        "# zeroR benchmarking function\n",
        "\n",
        "def zeroR_class(x_train, x_test, y_train, y_test):\n",
        "    \n",
        "  pred = y_train.value_counts().index[0]  # find most common class \n",
        "  not_pred = y_train.unique()[~pred]  \n",
        "\n",
        "  n = len(y_test)\n",
        "\n",
        "  # confusion matrix\n",
        "  a = sum(y_test==pred)      # true positive\n",
        "  b = sum(y_test==not_pred)  # false negative\n",
        "  c = sum(y_test!=pred)      # false positive\n",
        "  d = sum(y_test!=not_pred)  # true negative\n",
        "  \n",
        "  # performance stats\n",
        "  accuracy = a/n\n",
        "  error = 1-accuracy\n",
        "  precision = a/(a+c)\n",
        "  recall = a/(a+b)\n",
        "  \n",
        "  perf = {\"accuracy\": accuracy, \"error\":error, \"precision\":precision, \"recall\":recall}\n",
        "                              \n",
        "  return(perf)  \n",
        "  \n",
        " "
      ],
      "execution_count": 0,
      "outputs": []
    },
    {
      "cell_type": "code",
      "metadata": {
        "id": "_IMdKw0I57aI",
        "colab_type": "code",
        "colab": {}
      },
      "source": [
        "# oneR benchmarking function\n",
        "\n",
        "def oneR_class(x_train, x_test, y_train, y_test):\n",
        "  \n",
        "  perf = pd.DataFrame()\n",
        "  \n",
        "  for i,col in enumerate(x_train):\n",
        "    \n",
        "    \n",
        "  pred = y_train.value_counts().index[0]  # find most common class \n",
        "  not_pred = y_train.unique()[~pred]  \n",
        "\n",
        "  n = len(y_test)\n",
        "\n",
        "  a = sum(y_test==pred)\n",
        "  b = sum(y_test==not_pred)\n",
        "  c = sum(y_test!=pred)\n",
        "  d = sum(y_test!=not_pred)\n",
        "  \n",
        "  accuracy = a/n\n",
        "  error = 1-accuracy\n",
        "  precision = a/(a+c)\n",
        "  recall = a/(a+b)\n",
        "  \n",
        "  perf = {\"accuracy\": accuracy, \"error\":error, \"precision\":precision, \"recall\":recall}\n",
        "               \n",
        "  return(perf)  \n",
        "  "
      ],
      "execution_count": 0,
      "outputs": []
    },
    {
      "cell_type": "code",
      "metadata": {
        "id": "sNSiRFu5KvXS",
        "colab_type": "code",
        "colab": {}
      },
      "source": [
        "# 10 fold CV splitting function\n",
        "def run_10fold_cv(alg, x,y):\n",
        "\n",
        "  accuracy_list=[]\n",
        "  error_list=[]\n",
        "  precision_list=[]\n",
        "  recall_list=[]\n",
        "  \n",
        "  # set kfold split generator\n",
        "  kf = KFold(n_splits=10, shuffle=True)\n",
        "\n",
        "  # iterate through folds\n",
        "  for train, test in kf.split(x):\n",
        "    \n",
        "    # run specified classification alg on specified data\n",
        "    scores = globals()[alg](x.iloc[train,:], # training data\n",
        "                            x.iloc[test,:],  # test data\n",
        "                            y[train],        # training class\n",
        "                            y[test])         # test class\n",
        "    \n",
        "    # store performance metrics for each iteration\n",
        "    accuracy_list.append(scores[\"accuracy\"])\n",
        "    error_list.append(scores[\"error\"])\n",
        "    precision_list.append(scores[\"precision\"])\n",
        "    recall_list.append(scores[\"recall\"])\n",
        "    \n",
        "  #print(accuracy_list)\n",
        "  #print(error_list)\n",
        "  #print(precision_list)\n",
        "  #print(recall_list)\n",
        "\n",
        "  # return dictionary of mean scores\n",
        "  return({\"accuracy\":mean(accuracy_list),\n",
        "          \"error\":mean(error_list),\n",
        "          \"precision\":mean(precision_list),\n",
        "          \"recall\":mean(recall_list)}\n",
        "        )\n",
        "          \n",
        "         \n"
      ],
      "execution_count": 0,
      "outputs": []
    },
    {
      "cell_type": "code",
      "metadata": {
        "id": "_S70cazKG1wE",
        "colab_type": "code",
        "colab": {
          "base_uri": "https://localhost:8080/",
          "height": 153
        },
        "outputId": "c0a577b5-6e90-4b7f-b803-5d37e5e0826c"
      },
      "source": [
        "zeroR = run_10fold_cv(\"zeroR_class\", df_data, target)\n",
        "zeroR\n"
      ],
      "execution_count": 387,
      "outputs": [
        {
          "output_type": "stream",
          "text": [
            "[0.5483870967741935, 0.6451612903225806, 0.3548387096774194, 0.6333333333333333, 0.6, 0.6333333333333333, 0.4666666666666667, 0.5666666666666667, 0.5333333333333333, 0.43333333333333335]\n",
            "[0.4516129032258065, 0.3548387096774194, 0.6451612903225806, 0.3666666666666667, 0.4, 0.3666666666666667, 0.5333333333333333, 0.43333333333333335, 0.4666666666666667, 0.5666666666666667]\n",
            "[0.5483870967741935, 0.6451612903225806, 0.3548387096774194, 0.6333333333333333, 0.6, 0.6333333333333333, 0.4666666666666667, 0.5666666666666667, 0.5333333333333333, 0.43333333333333335]\n",
            "[0.5483870967741935, 0.6451612903225806, 0.3548387096774194, 0.6333333333333333, 0.6, 0.5, 0.4666666666666667, 0.5666666666666667, 0.5333333333333333, 0.43333333333333335]\n"
          ],
          "name": "stdout"
        },
        {
          "output_type": "execute_result",
          "data": {
            "text/plain": [
              "{'accuracy': 0.541505376344086,\n",
              " 'error': 0.458494623655914,\n",
              " 'precision': 0.541505376344086,\n",
              " 'recall': 0.5281720430107527}"
            ]
          },
          "metadata": {
            "tags": []
          },
          "execution_count": 387
        }
      ]
    },
    {
      "cell_type": "code",
      "metadata": {
        "id": "ergWtmNn_zu5",
        "colab_type": "code",
        "colab": {
          "base_uri": "https://localhost:8080/",
          "height": 153
        },
        "outputId": "6ca0bee3-584e-4cb4-ec5d-317bef59d843"
      },
      "source": [
        "zeroR = run_10fold_cv(\"zeroR_class\", df_data**100, target)\n",
        "zeroR\n"
      ],
      "execution_count": 388,
      "outputs": [
        {
          "output_type": "stream",
          "text": [
            "[0.6129032258064516, 0.6451612903225806, 0.3548387096774194, 0.5666666666666667, 0.5, 0.7333333333333333, 0.43333333333333335, 0.6, 0.5, 0.4666666666666667]\n",
            "[0.3870967741935484, 0.3548387096774194, 0.6451612903225806, 0.43333333333333335, 0.5, 0.2666666666666667, 0.5666666666666667, 0.4, 0.5, 0.5333333333333333]\n",
            "[0.6129032258064516, 0.6451612903225806, 0.3548387096774194, 0.5666666666666667, 0.5, 0.7333333333333333, 0.43333333333333335, 0.6, 0.5, 0.4666666666666667]\n",
            "[0.6129032258064516, 0.6451612903225806, 0.3548387096774194, 0.5666666666666667, 0.5, 0.7333333333333333, 0.43333333333333335, 0.6, 0.5, 0.4666666666666667]\n"
          ],
          "name": "stdout"
        },
        {
          "output_type": "execute_result",
          "data": {
            "text/plain": [
              "{'accuracy': 0.5412903225806451,\n",
              " 'error': 0.45870967741935487,\n",
              " 'precision': 0.5412903225806451,\n",
              " 'recall': 0.5412903225806451}"
            ]
          },
          "metadata": {
            "tags": []
          },
          "execution_count": 388
        }
      ]
    },
    {
      "cell_type": "code",
      "metadata": {
        "id": "ZGxs-4HfuXBA",
        "colab_type": "code",
        "colab": {}
      },
      "source": [
        "zeroR"
      ],
      "execution_count": 0,
      "outputs": []
    },
    {
      "cell_type": "code",
      "metadata": {
        "id": "Q5XowamlSoMb",
        "colab_type": "code",
        "colab": {}
      },
      "source": [
        "# oneR \n",
        "\n",
        "oneR = pd.DataFrame(columns=[\"variable\",\"frequency\",\"class\",\"error\"])\n",
        "\n",
        "discrete_stats=pd.DataFrame()\n",
        "\n",
        "for i,val in enumerate(vars_discrete):\n",
        "  discrete_stats.loc[i,\"variable\"] = val\n",
        "  discrete_stats.loc[i,\"min\"] = min(df[vars_discrete[i]])\n",
        "  discrete_stats.loc[i,\"max\"] = max(df[vars_discrete[i]])\n",
        "  discrete_stats.loc[i,\"unique\"] = len(df[vars_discrete[i]].unique())\n",
        "  discrete_stats.loc[i,\"class\"]= \n",
        "  \n",
        "\n",
        "discrete_stats\n",
        "\n",
        "#for i, col in enumerate(df_names.columns):\n",
        "#  oneR.variable[i]=col\n",
        "  \n"
      ],
      "execution_count": 0,
      "outputs": []
    },
    {
      "cell_type": "code",
      "metadata": {
        "id": "aPdS3Z9nGfv2",
        "colab_type": "code",
        "colab": {}
      },
      "source": [
        "X_train, X_test, y_train, y_test = train_test_split(iris.data, iris.target, test_size=0.4, random_state=0)"
      ],
      "execution_count": 0,
      "outputs": []
    },
    {
      "cell_type": "code",
      "metadata": {
        "id": "iC0Mlh_aMfg0",
        "colab_type": "code",
        "colab": {}
      },
      "source": [
        "clf = tree.DecisionTreeClassifier()\n",
        "clf=clf.fit(df.iloc[:,0:13],df.num)\n",
        "tree_plot = tree.plot_tree(clf)\n"
      ],
      "execution_count": 0,
      "outputs": []
    },
    {
      "cell_type": "code",
      "metadata": {
        "id": "Sax5NpbqNpFd",
        "colab_type": "code",
        "colab": {}
      },
      "source": [
        "export_text(clf)"
      ],
      "execution_count": 0,
      "outputs": []
    },
    {
      "cell_type": "code",
      "metadata": {
        "id": "Ka6_EZw8WOs4",
        "colab_type": "code",
        "colab": {}
      },
      "source": [
        ""
      ],
      "execution_count": 0,
      "outputs": []
    },
    {
      "cell_type": "code",
      "metadata": {
        "id": "POkwooEjZ_12",
        "colab_type": "code",
        "colab": {}
      },
      "source": [
        "\n",
        "\n",
        "\n"
      ],
      "execution_count": 0,
      "outputs": []
    },
    {
      "cell_type": "code",
      "metadata": {
        "id": "93iJV0NtaAv_",
        "colab_type": "code",
        "colab": {}
      },
      "source": [
        "df_data = df.loc[:,]"
      ],
      "execution_count": 0,
      "outputs": []
    },
    {
      "cell_type": "code",
      "metadata": {
        "id": "3e8FhZhraOMT",
        "colab_type": "code",
        "colab": {}
      },
      "source": [
        ""
      ],
      "execution_count": 0,
      "outputs": []
    },
    {
      "cell_type": "code",
      "metadata": {
        "id": "BBkphALWa3NP",
        "colab_type": "code",
        "colab": {}
      },
      "source": [
        "\n",
        "def tree_experiment(x,y): \n",
        "  clf=DecisionTreeClassifier()\n",
        "  clf = clf.fit(x_train, y_train)\n",
        "\n",
        "  y_pred = clf.predict(x_test)\n",
        "\n",
        "  return(metrics.accuracy_score(y_test, y_pred))\n",
        "\n"
      ],
      "execution_count": 0,
      "outputs": []
    },
    {
      "cell_type": "code",
      "metadata": {
        "id": "n0dcNfUMb_MU",
        "colab_type": "code",
        "colab": {}
      },
      "source": [
        "print(\"accuracy: \", round(metrics.accuracy_score(y_test, y_pred),4))\n",
        "print(\"tree depth: \",clf.get_depth())\n",
        "print(\"n leaves: \",clf.get_n_leaves())\n",
        "print(\"n features: \", clf.n_features_)"
      ],
      "execution_count": 0,
      "outputs": []
    },
    {
      "cell_type": "code",
      "metadata": {
        "id": "fQWTs8Edz0om",
        "colab_type": "code",
        "colab": {}
      },
      "source": [
        "\n",
        "\n",
        "\n",
        "scores = []\n",
        "\n",
        "scores.append(cross_val_score(clf, df_data, target, cv=10).mean)\n",
        "\n",
        "scores"
      ],
      "execution_count": 0,
      "outputs": []
    },
    {
      "cell_type": "code",
      "metadata": {
        "id": "Il80XKOiJzho",
        "colab_type": "code",
        "colab": {}
      },
      "source": [
        "df.shape[1]"
      ],
      "execution_count": 0,
      "outputs": []
    },
    {
      "cell_type": "code",
      "metadata": {
        "id": "knTcmLqLEQGY",
        "colab_type": "code",
        "colab": {}
      },
      "source": [
        "performance_df = pd.DataFrame(columns=[\"technique\",\"parameter\",\"accuracy\"])\n",
        "\n",
        "\n",
        "\n",
        "\n",
        "\n",
        "\n",
        "  "
      ],
      "execution_count": 0,
      "outputs": []
    },
    {
      "cell_type": "code",
      "metadata": {
        "id": "aU3pmXT5vZNL",
        "colab_type": "code",
        "colab": {}
      },
      "source": [
        "\n",
        "\n"
      ],
      "execution_count": 0,
      "outputs": []
    },
    {
      "cell_type": "code",
      "metadata": {
        "id": "WGtoitGSD2Ft",
        "colab_type": "code",
        "colab": {}
      },
      "source": [
        "score=[]\n",
        "\n",
        "#for n_features in range(1,df.shape[1]):\n",
        "for n_features in range(1,100):\n",
        "  clf=DecisionTreeClassifier(max_depth=n_features, criterion=\"entropy\")\n",
        "  score.append(cross_val_score(clf, df_data, target, cv=10).mean())\n",
        "\n",
        "plt.hist(score)\n"
      ],
      "execution_count": 0,
      "outputs": []
    },
    {
      "cell_type": "markdown",
      "metadata": {
        "id": "7GmwQC7IAp5Q",
        "colab_type": "text"
      },
      "source": [
        "# process "
      ]
    },
    {
      "cell_type": "code",
      "metadata": {
        "id": "s79N43vC0hrA",
        "colab_type": "code",
        "colab": {}
      },
      "source": [
        "# measure model accuracy function\n",
        "\n",
        "# classification:\n",
        "  # accuracy\n",
        "  # precision\n",
        "  # recall\n",
        "  # ROC Area under the Curve\n",
        "  # confusion matrix\n",
        "  \n",
        "# regression\n",
        "  # correlation coefficient\n",
        "  # residual standard error\n",
        "\n",
        "# misc\n",
        "  # size of tree\n",
        "  # readability of tree\n",
        "  # time"
      ],
      "execution_count": 0,
      "outputs": []
    },
    {
      "cell_type": "code",
      "metadata": {
        "id": "zogCg1d8BOJ6",
        "colab_type": "code",
        "colab": {}
      },
      "source": [
        "# zeroR"
      ],
      "execution_count": 0,
      "outputs": []
    },
    {
      "cell_type": "code",
      "metadata": {
        "id": "ugvZyzv0BMrA",
        "colab_type": "code",
        "colab": {}
      },
      "source": [
        "# oneR"
      ],
      "execution_count": 0,
      "outputs": []
    },
    {
      "cell_type": "code",
      "metadata": {
        "id": "d5g5_rkgA38I",
        "colab_type": "code",
        "colab": {}
      },
      "source": [
        "# k folds cross validation"
      ],
      "execution_count": 0,
      "outputs": []
    },
    {
      "cell_type": "code",
      "metadata": {
        "id": "QIXT7fCZBA_6",
        "colab_type": "code",
        "colab": {}
      },
      "source": [
        "# fit model"
      ],
      "execution_count": 0,
      "outputs": []
    },
    {
      "cell_type": "code",
      "metadata": {
        "id": "1RQUca4xBKX_",
        "colab_type": "code",
        "colab": {}
      },
      "source": [
        "# plot results"
      ],
      "execution_count": 0,
      "outputs": []
    }
  ]
}